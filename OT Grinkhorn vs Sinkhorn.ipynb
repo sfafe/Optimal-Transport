{
 "cells": [
  {
   "cell_type": "code",
   "execution_count": 39,
   "id": "c96c550e",
   "metadata": {},
   "outputs": [],
   "source": [
    "import numpy as np\n",
    "import matplotlib.pyplot as plt\n",
    "import cvxpy as cp\n",
    "from tqdm.notebook import tqdm\n",
    "import os"
   ]
  },
  {
   "cell_type": "code",
   "execution_count": 66,
   "id": "ca8f7b81",
   "metadata": {},
   "outputs": [],
   "source": [
    "def greenkhorn(A, r, c, eps, C):\n",
    "    n = len(C)\n",
    "    P = A\n",
    "    one = np.ones(n)\n",
    "    r_P = P @ one\n",
    "    c_P = P.T @ one\n",
    "    \n",
    "    err = np.linalg.norm(r_P - r, ord=1) + np.linalg.norm(c_P - c, ord=1)\n",
    "    \n",
    "    r_gain = r_P - r + r * np.log(r/r_P)\n",
    "    c_gain = c_P - c + c * np.log(c/c_P)\n",
    "    k = 0\n",
    "    while err > eps and k < 15000 :\n",
    "        i, j = np.argmax(r_gain), np.argmax(c_gain)\n",
    "        r_gain_max, c_gain_max = r_gain[i], c_gain[j]\n",
    "        \n",
    "        if r_gain_max > c_gain_max :\n",
    "            scaling = r[i] / r_P[i]\n",
    "            old_row = P[i, : ]\n",
    "            new_row = scaling * old_row\n",
    "            P[i, : ] = new_row\n",
    "            \n",
    "            P = P / P.sum().sum()\n",
    "            \n",
    "            \n",
    "            r_P = P @ one\n",
    "            c_P = P.T @ one\n",
    "            \n",
    "            r_gain = r_P - r + r * np.log(r/r_P)\n",
    "            c_gain = c_P - c + c * np.log(c/c_P)\n",
    "            \n",
    "            err = np.linalg.norm(r_P - r, ord=1) + np.linalg.norm(c_P - c, ord=1)\n",
    "            \n",
    "        else:\n",
    "            \n",
    "            scaling = c[j] / c_P[j]\n",
    "            old_col = P[:, j]\n",
    "            new_col = scaling * old_col\n",
    "            P[:, j ] = new_col\n",
    "            \n",
    "            P = P / P.sum().sum()\n",
    "            \n",
    "            \n",
    "            r_P = P @ one\n",
    "            c_P = P.T @ one\n",
    "            \n",
    "            r_gain = r_P - r + r * np.log(r/r_P)\n",
    "            c_gain = c_P - c + c * np.log(c/c_P)\n",
    "            \n",
    "            err = np.linalg.norm(r_P - r, ord=1) + np.linalg.norm(c_P - c, ord=1)\n",
    "        k += 1  \n",
    "    return P\n",
    "            \n",
    "    \n",
    "    \n",
    "    "
   ]
  },
  {
   "cell_type": "code",
   "execution_count": 6,
   "id": "0eb7da7f",
   "metadata": {},
   "outputs": [],
   "source": [
    "def Sinkhorn(A, r, c, eps, C):\n",
    "    n = len(C)\n",
    "    P = A\n",
    "    #print(P)\n",
    "    one = np.ones(n)\n",
    "    r_P = P @ one\n",
    "    c_P = P.T @ one\n",
    "    \n",
    "    err = np.linalg.norm(r_P - r, ord=1) + np.linalg.norm(c_P - c, ord=1)\n",
    "    \n",
    "    k = -1\n",
    "    \n",
    "    while err > eps :\n",
    "        k += 1\n",
    "        \n",
    "        if k % 2 == 1 :\n",
    "            r_P = P @ one\n",
    "            scaling = np.log(r / r_P)\n",
    "            \n",
    "            #print(\"*\",scaling)\n",
    "            P = np.diag(np.exp(scaling)) @ P\n",
    "                       \n",
    "         \n",
    "        else:\n",
    "            \n",
    "            c_P = P.T @ one\n",
    "            scaling = np.log(c / c_P)\n",
    "            #print(\"**\",scaling)\n",
    "            #P = (P.T * scaling).T\n",
    "            P =  P  @ np.diag(np.exp(scaling))      \n",
    "               \n",
    "        r_P = P @ one\n",
    "        c_P = P.T @ one               \n",
    "        err = np.linalg.norm(r_P - r, ord=1) + np.linalg.norm(c_P - c, ord=1)\n",
    "            \n",
    "    return P\n",
    "            "
   ]
  },
  {
   "cell_type": "code",
   "execution_count": 7,
   "id": "d07a57cf",
   "metadata": {},
   "outputs": [],
   "source": [
    "def round_transpoly(X, r, c):\n",
    "    n = len(X)\n",
    "    A = X\n",
    "    one = np.ones(n)\n",
    "    r_A = A @ one\n",
    "    \n",
    "    for i in range(n):\n",
    "        scaling = min(1.0, r[i]/r_A[i])\n",
    "        A[i, :] = scaling * A[i, :]\n",
    "    \n",
    "    c_A = A.T @ one\n",
    "\n",
    "    for j in range(n):\n",
    "        scaling = min(1, c[i]/c_A[i])\n",
    "        A[:, j] = scaling * A[:, j]\n",
    "        \n",
    "    r_A = A @ one\n",
    "    c_A = A.T @ one\n",
    "    \n",
    "    err_r = r_A - r\n",
    "    err_c = c_A - c\n",
    "    \n",
    "    return A + err_r.reshape(-1, 1) @ err_c.reshape(1, -1) / np.sum(np.abs(err_r))\n",
    "    \n",
    "    \n",
    "    "
   ]
  },
  {
   "cell_type": "code",
   "execution_count": 8,
   "id": "d9523be4",
   "metadata": {},
   "outputs": [],
   "source": [
    "def kernel(C, eta):\n",
    "    return np.exp(- eta * C)"
   ]
  },
  {
   "cell_type": "code",
   "execution_count": 9,
   "id": "aad44173",
   "metadata": {},
   "outputs": [],
   "source": [
    "def compute_ot(C, r, c, eps, eta, Greenkhorn = True):\n",
    "    A = kernel(C, eta)\n",
    "    eps_ = eps / (8*np.max(C))\n",
    "    if Greenkhorn : \n",
    "        P = greenkhorn(A, r, c, eps_, C)\n",
    "    else:\n",
    "        P = Sinkhorn(A, r, c, eps_, C)\n",
    "        #print(P)\n",
    "    \n",
    "    P = round_transpoly(P, r, c)\n",
    "    \n",
    "    return np.vdot(P, C)"
   ]
  },
  {
   "cell_type": "code",
   "execution_count": 21,
   "id": "eddbd1d9",
   "metadata": {},
   "outputs": [],
   "source": [
    "def Exact(C, r, c):\n",
    "    d = len(C)\n",
    "    P = cp.Variable((d,d))\n",
    "    u = np.ones((d, 1))\n",
    "    v = np.ones((d, 1))\n",
    "    r = r.reshape((d, 1))\n",
    "    c = c.reshape((1, d))\n",
    "    U = [0 <= P, P @ u == r, v.T @ P == c]\n",
    "    objective = cp.Minimize( cp.sum(cp.multiply(P,C)) )\n",
    "    prob = cp.Problem(objective, U)\n",
    "    result = prob.solve()\n",
    "    return result"
   ]
  },
  {
   "cell_type": "code",
   "execution_count": 105,
   "id": "3dd3c6be",
   "metadata": {},
   "outputs": [],
   "source": [
    "def error_pr(C, r, c, epss, Greenkhorn = True):\n",
    "    exc = Exact(C, r, c)\n",
    "    n = len(epss)\n",
    "    eps_pr = np.zeros(n)\n",
    "    for i in tqdm(range(n)) :\n",
    "        eta = np.log(np.log(len(C)))**0.5/epss[i]\n",
    "        app = compute_ot(C, r, c, epss[i], eta, Greenkhorn = Greenkhorn)\n",
    "        eps_pr[i] = app - exc\n",
    "    return eps_pr"
   ]
  },
  {
   "cell_type": "code",
   "execution_count": 69,
   "id": "51487e1b",
   "metadata": {},
   "outputs": [],
   "source": [
    "def random_cov_matrix(d, alpha=1/3):\n",
    "\n",
    "    k = int(np.round(d/alpha))\n",
    "    M = np.random.normal(size=(k,d))\n",
    "    A_tilde = M.T@M\n",
    "    A = A_tilde / np.trace(A_tilde)\n",
    "    return A\n",
    "\n",
    "def random_cov_matrix_k(d, alpha=1/3):\n",
    "\n",
    "    k = int(np.round(d/alpha))\n",
    "    M = np.random.normal(size=(k,d))\n",
    "    A_tilde = M.T@M\n",
    "    A = A_tilde / k\n",
    "    return A\n",
    "\n",
    "def mat_sqrt(A):\n",
    "    u, s, vh = np.linalg.svd(A)\n",
    "    return (u * np.sqrt(s)) @ vh\n",
    "\n",
    "def random_uniform_sphere(d, size=1):\n",
    "    x = np.random.normal(size=(size,d))\n",
    "    return x / np.linalg.norm(x,axis=-1, keepdims=True)\n",
    "\n",
    "def random_R(d, alpha, beta, size=1):\n",
    "    z = np.random.normal(size=size)\n",
    "    return alpha*np.abs(np.arctan(z/beta))**(1/d)\n",
    "\n",
    "def estimate_alpha(beta, d, nb_steps=10000):\n",
    "    R = random_R(d, 1, beta, size=nb_steps)\n",
    "    return np.sqrt(d) / np.mean(R*R)\n",
    "\n",
    "def sample_X(d, alpha, beta, A, size=1):\n",
    "    A_sqrt = mat_sqrt(A)\n",
    "    R = random_R(d, alpha, beta, size=1)\n",
    "    U = random_uniform_sphere(d, size=size)\n",
    "    return (R * U) @ A_sqrt\n",
    "\n",
    "def cost_matrix(mu, nu):\n",
    "    diff = mu[:,np.newaxis,:] - nu[np.newaxis, :,:]\n",
    "    C = 0.5*np.sum(diff*diff, axis=-1)\n",
    "    return C"
   ]
  },
  {
   "cell_type": "code",
   "execution_count": 15,
   "id": "7a15147d",
   "metadata": {},
   "outputs": [],
   "source": [
    "d = 50\n",
    "r = np.random.randint(1000, size = d)\n",
    "c = np.random.randint(1000, size = d)\n",
    "r = r/r.sum()\n",
    "c = c/c.sum()\n",
    "mean = np.ones(d) * 10\n",
    "cov = 3 * np.eye(d)\n",
    "C = np.random.multivariate_normal(mean, cov, d) "
   ]
  },
  {
   "cell_type": "code",
   "execution_count": 106,
   "id": "178b5e80",
   "metadata": {},
   "outputs": [],
   "source": [
    "n = 500\n",
    "d = 5\n",
    "A = random_cov_matrix(d)\n",
    "beta = 1\n",
    "lbda = 0.000001\n",
    "alpha = estimate_alpha(beta, d)\n",
    "mu = sample_X(d, alpha, beta, A, n)\n",
    "nu = sample_X(d, alpha, beta, A, n)\n",
    "C = cost_matrix(mu, nu)\n",
    "p = np.ones(len(mu))/len(mu)\n",
    "q = np.ones(len(nu))/len(nu)"
   ]
  },
  {
   "cell_type": "code",
   "execution_count": 107,
   "id": "c4da00d6",
   "metadata": {},
   "outputs": [
    {
     "data": {
      "application/vnd.jupyter.widget-view+json": {
       "model_id": "cc89116a912c455eae640a5fabcf3126",
       "version_major": 2,
       "version_minor": 0
      },
      "text/plain": [
       "  0%|          | 0/12 [00:00<?, ?it/s]"
      ]
     },
     "metadata": {},
     "output_type": "display_data"
    },
    {
     "name": "stdout",
     "output_type": "stream",
     "text": [
      "[0.08 0.09 0.1  0.11 0.12 0.13 0.14 0.15 0.16 0.18 0.2  0.22]\n",
      "[0.06701999 0.07879291 0.09197742 0.10379478 0.11711177 0.13023578\n",
      " 0.14029428 0.15501503 0.16518195 0.18772547 0.21047522 0.23671777]\n"
     ]
    }
   ],
   "source": [
    "epss = 10**(-3) * np.array([80,90,100,110,120,130,140,150,160, 180, 200, 220] )#,170,180,190,200,210,220,230])\n",
    "eps_pr = error_pr(C, p, q, epss, True)\n",
    "print(epss)\n",
    "print(eps_pr)"
   ]
  },
  {
   "cell_type": "code",
   "execution_count": 108,
   "id": "5df9c628",
   "metadata": {},
   "outputs": [],
   "source": [
    "def mk_plot(err1, err2, n,name=\"error.png\"):\n",
    "    \"\"\"\n",
    "    \"\"\"\n",
    "    figure = plt.figure(figsize=(12, 8))\n",
    "    plt.plot(err1, label=\"theoritic\")\n",
    "    plt.plot(err2, label=\"experimental\")\n",
    "    beta=3000.0\n",
    "    \n",
    "    error = np.ones_like(err1)\n",
    "    error = err1.std()*error\n",
    "    plt.fill_between(np.array(list(range(len(err1)))), err1-error/beta, err1+error/beta, alpha=0.45)\n",
    "    \n",
    "    error = np.ones_like(err2)\n",
    "    error = err2.std()*error\n",
    "    plt.fill_between(np.array(list(range(len(err2)))), err2-error/beta, err2+error/beta, alpha=0.45)\n",
    "    \n",
    "    plt.grid()\n",
    "    plt.legend()\n",
    "    plt.title(\"Error comparison, $\\lambda = \\sqrt{\\log{(n)}}/ \\epsilon $\")\n",
    "    plt.ylabel(\"$\\epsilon$ values\")\n",
    "    plt.savefig(os.path.join(r\"path\", name))\n",
    "    plt.show()\n",
    "    return"
   ]
  },
  {
   "cell_type": "code",
   "execution_count": 109,
   "id": "485acc1d",
   "metadata": {
    "scrolled": false
   },
   "outputs": [
    {
     "data": {
      "image/png": "[encoded data removed]",
      "text/plain": [
       "<Figure size 864x576 with 1 Axes>"
      ]
     },
     "metadata": {
      "needs_background": "light"
     },
     "output_type": "display_data"
    }
   ],
   "source": [
    "mk_plot(epss, eps_pr, 1000, name=\"error 8.png\")"
   ]
  },
  {
   "cell_type": "code",
   "execution_count": null,
   "id": "893a18f4",
   "metadata": {},
   "outputs": [],
   "source": []
  }
 ],
 "metadata": {
  "kernelspec": {
   "display_name": "Python 3",
   "language": "python",
   "name": "python3"
  },
  "language_info": {
   "codemirror_mode": {
    "name": "ipython",
    "version": 3
   },
   "file_extension": ".py",
   "mimetype": "text/x-python",
   "name": "python",
   "nbconvert_exporter": "python",
   "pygments_lexer": "ipython3",
   "version": "3.8.10"
  }
 },
 "nbformat": 4,
 "nbformat_minor": 5
}
